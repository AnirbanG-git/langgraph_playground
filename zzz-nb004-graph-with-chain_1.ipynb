{
 "cells": [
  {
   "cell_type": "markdown",
   "id": "be46161e-45e9-46d7-8214-bcbea10aff2e",
   "metadata": {},
   "source": [
    "# Basic LangGrap app with chatbot and tool\n",
    "* We will build a basic app that perform 4 operations that will remind ourselves about some of the things we did with LangChain in the Generative AI Bootcamp:\n",
    "    * Use chat messages as state\n",
    "    * Use chat model in node\n",
    "    * Bind a tool to the chat model\n",
    "    * Execute tool call in node"
   ]
  },
  {
   "cell_type": "markdown",
   "id": "079c36e6-341f-409b-98b0-e4ae680b78e6",
   "metadata": {},
   "source": [
    "## Setup"
   ]
  },
  {
   "cell_type": "markdown",
   "id": "871e0018-cba4-4959-881a-0a65093d202d",
   "metadata": {},
   "source": [
    "#### After you download the code from the github repository in your computer\n",
    "In terminal:\n",
    "* cd project_name\n",
    "* pyenv local 3.11.4\n",
    "* poetry install\n",
    "* poetry shell"
   ]
  },
  {
   "cell_type": "markdown",
   "id": "4065e336-d054-412c-8a3f-1fbec63e1bcd",
   "metadata": {},
   "source": [
    "#### To open the notebook with Jupyter Notebooks\n",
    "In terminal:\n",
    "* jupyter lab\n",
    "\n",
    "Go to the folder of notebooks and open the right notebook."
   ]
  },
  {
   "cell_type": "markdown",
   "id": "62dda8d4-80cf-4b8f-9981-94edda5e9911",
   "metadata": {},
   "source": [
    "#### To see the code in Virtual Studio Code or your editor of choice.\n",
    "* open Virtual Studio Code or your editor of choice.\n",
    "* open the project-folder\n",
    "* open the 004-graph-with-chain.py file"
   ]
  },
  {
   "cell_type": "markdown",
   "id": "af743328-1bc8-4b01-85fb-fcb21c6499c2",
   "metadata": {},
   "source": [
    "## Create your .env file\n",
    "* In the github repo we have included a file named .env.example\n",
    "* Rename that file to .env file and here is where you will add your confidential api keys. Remember to include:\n",
    "* OPENAI_API_KEY=your_openai_api_key\n",
    "* LANGCHAIN_TRACING_V2=true\n",
    "* LANGCHAIN_ENDPOINT=https://api.smith.langchain.com\n",
    "* LANGCHAIN_API_KEY=your_langchain_api_key\n",
    "* LANGCHAIN_PROJECT=your_project_name"
   ]
  },
  {
   "cell_type": "markdown",
   "id": "40e766aa-f3e2-491f-be99-d0c6b700d47a",
   "metadata": {},
   "source": [
    "## Track operations\n",
    "From now on, we can track the operations **and the cost** of this project from LangSmith:\n",
    "* [smith.langchain.com](https://smith.langchain.com)"
   ]
  },
  {
   "cell_type": "markdown",
   "id": "4f99504a-1b8f-4360-b342-0b81ffa06aff",
   "metadata": {},
   "source": [
    "## Connect with the .env file located in the same directory of this notebook"
   ]
  },
  {
   "cell_type": "markdown",
   "id": "e39e5789-5bde-42e1-88dd-92dc8e363c24",
   "metadata": {},
   "source": [
    "If you are using the pre-loaded poetry shell, you do not need to install the following package because it is already pre-loaded for you:"
   ]
  },
  {
   "cell_type": "code",
   "execution_count": 1,
   "id": "c5514113-ddca-4ae9-9de6-0b9225b18f3c",
   "metadata": {},
   "outputs": [],
   "source": [
    "#pip install python-dotenv"
   ]
  },
  {
   "cell_type": "code",
   "execution_count": 1,
   "id": "fecd39d0-e72e-4bc2-8a68-2fa4008ea365",
   "metadata": {},
   "outputs": [],
   "source": [
    "import os\n",
    "from dotenv import load_dotenv, find_dotenv\n",
    "_ = load_dotenv(find_dotenv())\n",
    "openai_api_key = os.environ[\"OPENAI_API_KEY\"]\n",
    "os.environ[\"http_proxy\"] = \"\"\n",
    "os.environ[\"https_proxy\"] = \"\""
   ]
  },
  {
   "cell_type": "markdown",
   "id": "03f4a923-b19e-498e-9be5-e47ec4a77d80",
   "metadata": {},
   "source": [
    "#### Install LangChain"
   ]
  },
  {
   "cell_type": "markdown",
   "id": "9fef1e5c-b7e2-4a04-96c5-8f64377b8eba",
   "metadata": {},
   "source": [
    "If you are using the pre-loaded poetry shell, you do not need to install the following package because it is already pre-loaded for you:"
   ]
  },
  {
   "cell_type": "code",
   "execution_count": 3,
   "id": "c1cf94ae-6c39-4475-9c5b-4b74d8d78753",
   "metadata": {},
   "outputs": [],
   "source": [
    "#!pip install langchain"
   ]
  },
  {
   "cell_type": "markdown",
   "id": "189e9e17-dfb0-4fd3-85b9-1fba83771941",
   "metadata": {},
   "source": [
    "## Connect with an LLM"
   ]
  },
  {
   "cell_type": "markdown",
   "id": "b21d23f4-61f5-4227-8a75-7eefde6680ee",
   "metadata": {},
   "source": [
    "If you are using the pre-loaded poetry shell, you do not need to install the following package because it is already pre-loaded for you:"
   ]
  },
  {
   "cell_type": "code",
   "execution_count": 4,
   "id": "148df8e0-361d-4ddd-8709-af48fa1648d1",
   "metadata": {},
   "outputs": [],
   "source": [
    "#!pip install langchain-openai"
   ]
  },
  {
   "cell_type": "code",
   "execution_count": 2,
   "id": "df978ec5-bfd2-4167-bd33-86bc2687d1cb",
   "metadata": {},
   "outputs": [],
   "source": [
    "from langchain_openai import ChatOpenAI\n",
    "\n",
    "chatModel35 = ChatOpenAI(model=\"gpt-3.5-turbo-0125\")\n",
    "chatModel4o = ChatOpenAI(model=\"gpt-4o\")"
   ]
  },
  {
   "cell_type": "markdown",
   "id": "598a3c83-05f4-48da-a289-400da2a4940c",
   "metadata": {},
   "source": [
    "## Building an app (called graph in langgraph) that chats with an LLM"
   ]
  },
  {
   "cell_type": "markdown",
   "id": "0437b47d-b809-412b-9ac7-6c0bc3d16515",
   "metadata": {},
   "source": [
    "* Here you have a graphic representation of the app we will build:"
   ]
  },
  {
   "cell_type": "markdown",
   "id": "ee6f81f0-93a4-4ea1-99b6-95283dc074f6",
   "metadata": {},
   "source": [
    "![Simple graph](graph002.png)"
   ]
  },
  {
   "cell_type": "markdown",
   "id": "20582816-6275-45ca-8cab-7f923a612cfc",
   "metadata": {},
   "source": [
    "## Define the State schema"
   ]
  },
  {
   "cell_type": "markdown",
   "id": "a4b49c19-8e03-4b21-b73b-7798cba7339a",
   "metadata": {},
   "source": [
    "* For this example, our State class will be called MessagesState and is only going to have one key called \"messages\" with the format of a list of AnyMessages.\n",
    "* When we run the app, we want to append messages to this messages state key. We wil use a **reducer function** for this.\n",
    "* Reducer functions (often called simply reducers) allow us to specify how state updates are performed.\n",
    "* If no reducer function is specified, then it is assumed that updates to the key should overwrite it as we saw in the previous exercise.\n",
    "* To append messages, we can use the **pre-built add_messages reducer**. This ensures that any messages are appended to the existing list of messages.\n",
    "* In order to do this, we need to annotate our messages key with the add_messages reducer function as metadata."
   ]
  },
  {
   "cell_type": "code",
   "execution_count": 3,
   "id": "dfc3e211-9071-4a38-b0a2-8c470ef2c4fb",
   "metadata": {},
   "outputs": [],
   "source": [
    "from typing_extensions import TypedDict\n",
    "from langchain_core.messages import AnyMessage\n",
    "from typing import Annotated\n",
    "from langgraph.graph.message import add_messages\n",
    "\n",
    "class MessagesState(TypedDict):\n",
    "    messages: Annotated[list[AnyMessage], add_messages]"
   ]
  },
  {
   "cell_type": "markdown",
   "id": "a3a4cec6-3c2c-4c7a-952f-f890459b98ff",
   "metadata": {},
   "source": [
    "In simple terms, this is what the previous code does:\n",
    "\n",
    "#### Imports\n",
    "   - `TypedDict` (from `typing_extensions`): This lets you define a dictionary with a specific structure, where each key has a predefined type.\n",
    "   - `AnyMessage`: A module from `langchain_core.messages`.\n",
    "   - `Annotated`: A feature from Python's `typing` module that allows attaching additional metadata or context to a type.\n",
    "   - `add_messages`: A module from `langgraph.graph.message`.\n",
    "\n",
    "#### Class Definition\n",
    "   - `MessagesState` is a subclass of `TypedDict`. This means it represents a dictionary where the structure (keys and their corresponding types) is clearly defined.\n",
    "   - In this case, the dictionary has one key:\n",
    "     - **`messages`**: A list of `AnyMessage` objects.\n",
    "\n",
    "#### Annotated Type\n",
    "   - The type of `messages` is `Annotated[list[AnyMessage], add_messages]`.\n",
    "   - This means:\n",
    "     - The value of `messages` must be a list of `AnyMessage` objects.\n",
    "     - The `add_messages` annotation provides additional functionality for this field. To append messages, we will use the pre-built add_messages reducer. This ensures that any messages are appended to the existing list of messages.\n",
    "\n",
    "#### What is `Annotated`?\n",
    "\n",
    "`Annotated` is a feature from Python's `typing` module. It lets you **attach extra metadata** or information to a type. This metadata can then be used by tools, libraries, or frameworks to influence how the type is interpreted or processed, without changing the core behavior of the type itself.\n",
    "\n",
    "In simple terms:\n",
    "- It’s a way to **add \"extra notes\" to a type** so other code or tools can use those notes to perform additional actions.\n",
    "\n",
    "#### Syntax of `Annotated`:\n",
    "\n",
    "```python\n",
    "from typing import Annotated\n",
    "\n",
    "# Basic example\n",
    "x: Annotated[int, \"This is metadata\"]\n",
    "```\n",
    "\n",
    "- Here, `x` is an integer (`int`), but it has extra metadata (`\"This is metadata\"`) attached to it. Tools can use this metadata to add functionality, like validation or transformation.\n",
    "\n",
    "#### How `Annotated` Works in the Previous Code:\n",
    "\n",
    "```python\n",
    "messages: Annotated[list[AnyMessage], add_messages]\n",
    "```\n",
    "\n",
    "- **The Core Type:** `list[AnyMessage]`\n",
    "  - This means `messages` is a list containing `AnyMessage` objects.\n",
    "\n",
    "- **The Annotation (`add_messages`):**\n",
    "  - `add_messages` is additional information or logic attached to the `list[AnyMessage]`.\n",
    "  - `add_messages` is a reducer function that provides custom behavior for this field, ensuring that any messages are appended to the existing list of messages.\n",
    "\n",
    "#### Why Use `Annotated` Here?\n",
    "\n",
    "In this context, `Annotated` is used to:\n",
    "1. **Add Extra Behavior:** The `add_messages` annotation modifies how the `messages` list is processed.\n",
    "2. **Keep the Code Clean:** Instead of modifying the core type (`list[AnyMessage]`), the annotation separates the additional logic (`add_messages`) from the basic type definition.\n",
    "3. **Improve Flexibility:** Different tools or parts of the application can interpret or act on the `add_messages` annotation in specific ways."
   ]
  },
  {
   "cell_type": "markdown",
   "id": "61bbacae-c219-4d60-9fd3-05829fa9d62b",
   "metadata": {},
   "source": [
    "## LangGraph has a simplified way to do this\n",
    "* Since having a list of messages in graph state is so common, LangGraph has a **pre-built `MessagesState`** defined with a pre-built `messages` key which is a list of `AnyMessage` objects and it uses the `add_messages` reducer."
   ]
  },
  {
   "cell_type": "markdown",
   "id": "44f06271-294c-4c34-b408-d1c66e6e81eb",
   "metadata": {},
   "source": [
    "So, the default way of doing this in LangGraph is:"
   ]
  },
  {
   "cell_type": "code",
   "execution_count": 4,
   "id": "a9a55705-f664-416a-ac99-d6bf6a62b5a6",
   "metadata": {},
   "outputs": [],
   "source": [
    "from langgraph.graph import MessagesState\n",
    "\n",
    "class MessagesState(MessagesState):\n",
    "    # Add any keys needed beyond messages, which is pre-built \n",
    "    pass"
   ]
  },
  {
   "cell_type": "markdown",
   "id": "edbf3855-b498-4c93-bf13-7aebf0d03322",
   "metadata": {},
   "source": [
    "## Define the only Node of this app\n",
    "* Nodes are defined as functions.\n",
    "* The first argument in a Node function is the state. In this exercise each node can access the key `messages`, with `state['messages']`.\n",
    "* In this example we only have one node.\n",
    "* **See that we are using the chatModel4o we previously defined**. If you prefer it, you could use chatModel35 instead."
   ]
  },
  {
   "cell_type": "code",
   "execution_count": 5,
   "id": "3aa42b34-a6d4-4849-8cec-d415ae8a1016",
   "metadata": {},
   "outputs": [],
   "source": [
    "# Node with a chatbot\n",
    "def simple_llm(state: MessagesState):\n",
    "    return {\"messages\": [chatModel4o.invoke(state[\"messages\"])]}"
   ]
  },
  {
   "cell_type": "markdown",
   "id": "128c693a-aa5c-49a8-8962-d6ee725a4281",
   "metadata": {},
   "source": [
    "## Since in this example we only have one Node, we do not have to define edges."
   ]
  },
  {
   "cell_type": "markdown",
   "id": "e9f8c3d3-9196-4cb3-89ba-8c7c644abc07",
   "metadata": {},
   "source": [
    "## Build the app\n",
    "* First, we initialize a StateGraph with the `MessagesState` class we defined above.\n",
    "* Then, we add the only node.\n",
    "* The `START` Node is a special node that sends user input to the graph, to indicate where to start our graph.\n",
    "* The `END` Node is a special node that represents a terminal node.\n",
    "* We compile our graph to perform a few basic checks on the graph structure.\n",
    "* Finally, we visualize the graph as a [Mermaid diagram](https://github.com/mermaid-js/mermaid)."
   ]
  },
  {
   "cell_type": "code",
   "execution_count": 6,
   "id": "230dc61f-11af-47e5-a078-90b358bc53e9",
   "metadata": {},
   "outputs": [
    {
     "data": {
      "image/png": "[encoded data removed]",
      "text/plain": [
       "<IPython.core.display.Image object>"
      ]
     },
     "metadata": {},
     "output_type": "display_data"
    }
   ],
   "source": [
    "from IPython.display import Image, display\n",
    "from langgraph.graph import StateGraph, START, END\n",
    "    \n",
    "# Build graph\n",
    "builder = StateGraph(MessagesState)\n",
    "\n",
    "builder.add_node(\"simple_llm\", simple_llm)\n",
    "\n",
    "# Add the logic of the graph\n",
    "builder.add_edge(START, \"simple_llm\")\n",
    "builder.add_edge(\"simple_llm\", END)\n",
    "\n",
    "# Compile the graph\n",
    "graph = builder.compile()\n",
    "\n",
    "# Visualize the graph\n",
    "display(Image(graph.get_graph().draw_mermaid_png()))"
   ]
  },
  {
   "cell_type": "markdown",
   "id": "99f9ccf5-dff0-4aa0-8bfa-35cd1caaabf8",
   "metadata": {},
   "source": [
    "## Run the app\n",
    "* The compiled graph implements the runnable protocol, a standard way to execute LangChain components. Because of that, we can use `invoke` as one of the standard methods to run this app.\n",
    "* Our initial input is a dictionary `{\"messages\": HumanMessage(content=\"Where is the Golden Gate Bridge?\")}`, which sets the initial value for the state dict.\n",
    "* When `invoke` is called:\n",
    "    * The graph starts execution from the `START` node.\n",
    "    * It progresses through the defined node.\n",
    "    * The execution continues until it reaches the `END` node."
   ]
  },
  {
   "cell_type": "code",
   "execution_count": 7,
   "id": "cf4397bb-6539-4abb-8aef-7d90e34b49a4",
   "metadata": {},
   "outputs": [
    {
     "name": "stdout",
     "output_type": "stream",
     "text": [
      "================================\u001b[1m Human Message \u001b[0m=================================\n",
      "\n",
      "Where is the Golden Gate Bridge?\n",
      "==================================\u001b[1m Ai Message \u001b[0m==================================\n",
      "\n",
      "The Golden Gate Bridge is located in San Francisco, California, USA. It spans the Golden Gate Strait, the entrance to the San Francisco Bay from the Pacific Ocean, connecting the city of San Francisco to Marin County in the north.\n"
     ]
    }
   ],
   "source": [
    "from pprint import pprint\n",
    "from langchain_core.messages import AIMessage, HumanMessage\n",
    "\n",
    "# The following two lines are the most frequent way to \n",
    "# run and print a LangGraph chatbot-like app results.\n",
    "messages = graph.invoke({\"messages\": HumanMessage(content=\"Where is the Golden Gate Bridge?\")})\n",
    "\n",
    "for m in messages['messages']:\n",
    "    m.pretty_print()"
   ]
  },
  {
   "cell_type": "markdown",
   "id": "950ff02a-64ab-402b-9da4-98f75de6aab3",
   "metadata": {},
   "source": [
    "* As you see, our app was able to chat with the LLM."
   ]
  },
  {
   "cell_type": "markdown",
   "id": "c3b7512a-1fa2-4594-b175-a0f840b479a9",
   "metadata": {},
   "source": [
    "![Simple graph](graph002.png)"
   ]
  },
  {
   "cell_type": "markdown",
   "id": "43b073c3-98a4-4e37-ac2b-432147e1cc91",
   "metadata": {},
   "source": [
    "## Let's now add a tool to our ChatModel4o"
   ]
  },
  {
   "cell_type": "code",
   "execution_count": 8,
   "id": "d6cea16f-3083-4c2d-9b9d-da69453d2ed7",
   "metadata": {},
   "outputs": [],
   "source": [
    "def multiply(a: int, b: int) -> int:\n",
    "    \"\"\"Multiply a and b.\n",
    "\n",
    "    Args:\n",
    "        a: first int\n",
    "        b: second int\n",
    "    \"\"\"\n",
    "    return a * b\n",
    "\n",
    "chatModel4o_with_tools = chatModel4o.bind_tools([multiply])"
   ]
  },
  {
   "cell_type": "markdown",
   "id": "18576c66-9269-4db6-b0e4-7ddd664f31ea",
   "metadata": {},
   "source": [
    "## Let's now create a second LangGraph app that can decide if it uses the LLM chatbot or the Multiply Tool to respond to a user question"
   ]
  },
  {
   "cell_type": "code",
   "execution_count": 9,
   "id": "5d33b8ab-a6bd-42f6-8610-753b957ccabc",
   "metadata": {},
   "outputs": [],
   "source": [
    "# Node\n",
    "def llm_with_tool(state: MessagesState):\n",
    "    return {\"messages\": [chatModel4o_with_tools.invoke(state[\"messages\"])]}"
   ]
  },
  {
   "cell_type": "code",
   "execution_count": 14,
   "id": "1ad1a571-639f-49d2-a8b1-373f60bdd0cd",
   "metadata": {},
   "outputs": [
    {
     "name": "stdout",
     "output_type": "stream",
     "text": [
      "printing graph\n"
     ]
    },
    {
     "data": {
      "image/png": "[encoded data removed]",
      "text/plain": [
       "<IPython.core.display.Image object>"
      ]
     },
     "metadata": {},
     "output_type": "display_data"
    },
    {
     "name": "stdout",
     "output_type": "stream",
     "text": [
      "graph printed\n"
     ]
    }
   ],
   "source": [
    "from IPython.display import Image, display\n",
    "from langgraph.graph import StateGraph, START, END\n",
    "    \n",
    "# Build graph\n",
    "builder = StateGraph(MessagesState)\n",
    "\n",
    "builder.add_node(\"llm_with_tool\", llm_with_tool)\n",
    "\n",
    "# Add the logic of the graph\n",
    "builder.add_edge(START, \"llm_with_tool\")\n",
    "builder.add_edge(\"llm_with_tool\", END)\n",
    "\n",
    "# Compile the graph\n",
    "graph = builder.compile()\n",
    "\n",
    "print(\"printing graph\")\n",
    "os.environ[\"http_proxy\"] = \"\"\n",
    "os.environ[\"https_proxy\"] = \"\"\n",
    "# Visualize the graph\n",
    "display(Image(graph.get_graph().draw_mermaid_png()))\n",
    "print(\"graph printed\")"
   ]
  },
  {
   "cell_type": "code",
   "execution_count": 15,
   "id": "9cc9f0fc-e1ee-4e56-90c5-85b4123a358f",
   "metadata": {},
   "outputs": [
    {
     "name": "stdout",
     "output_type": "stream",
     "text": [
      "================================\u001b[1m Human Message \u001b[0m=================================\n",
      "\n",
      "Where is the Eiffel Tower?\n",
      "==================================\u001b[1m Ai Message \u001b[0m==================================\n",
      "\n",
      "The Eiffel Tower is located in Paris, France. Specifically, it is situated on the Champ de Mars, a large public greenspace in the 7th arrondissement of Paris, near the Seine River.\n"
     ]
    }
   ],
   "source": [
    "from pprint import pprint\n",
    "from langchain_core.messages import AIMessage, HumanMessage\n",
    "\n",
    "# The following two lines are the most frequent way to \n",
    "# run and print a LangGraph chatbot-like app results.\n",
    "messages = graph.invoke({\"messages\": HumanMessage(content=\"Where is the Eiffel Tower?\")})\n",
    "\n",
    "for m in messages['messages']:\n",
    "    m.pretty_print()"
   ]
  },
  {
   "cell_type": "code",
   "execution_count": 16,
   "id": "09182711-2709-4988-ba86-4dc281401a6b",
   "metadata": {},
   "outputs": [
    {
     "name": "stdout",
     "output_type": "stream",
     "text": [
      "================================\u001b[1m Human Message \u001b[0m=================================\n",
      "\n",
      "Multiply 4 and 5\n",
      "==================================\u001b[1m Ai Message \u001b[0m==================================\n",
      "Tool Calls:\n",
      "  multiply (call_Zp3iLQbCiFBiihUxCBwU66xc)\n",
      " Call ID: call_Zp3iLQbCiFBiihUxCBwU66xc\n",
      "  Args:\n",
      "    a: 4\n",
      "    b: 5\n"
     ]
    }
   ],
   "source": [
    "from pprint import pprint\n",
    "from langchain_core.messages import AIMessage, HumanMessage\n",
    "\n",
    "# The following two lines are the most frequent way to \n",
    "# run and print a LangGraph chatbot-like app results.\n",
    "messages = graph.invoke({\"messages\": HumanMessage(content=\"Multiply 4 and 5\")})\n",
    "\n",
    "for m in messages['messages']:\n",
    "    m.pretty_print()"
   ]
  },
  {
   "cell_type": "markdown",
   "id": "b16b4337-cb5c-43e3-b9b9-395d7d69feaf",
   "metadata": {},
   "source": [
    "#### This second app has agentic behavior\n",
    "* Because depending on the input, the LLM decides which option to take:\n",
    "    * Option A: respond with the LLM chatbot.\n",
    "    * Option B: respond with the tool \"Multiply\".\n",
    "* This is what is called \"agentic behavior\": the LLM makes some decisions by itself. "
   ]
  },
  {
   "cell_type": "markdown",
   "id": "dbc24f4f-d23c-4202-992d-91b0623136ae",
   "metadata": {},
   "source": [
    "## How to execute the code from Visual Studio Code\n",
    "* In Visual Studio Code, see the file 004-graph-with-chain.py\n",
    "* In terminal, make sure you are in the directory of the file and run:\n",
    "    * python 004-graph-with-chain.py"
   ]
  },
  {
   "cell_type": "code",
   "execution_count": null,
   "id": "b1af248e-6069-44b3-a2cd-a20aa3259874",
   "metadata": {},
   "outputs": [],
   "source": []
  }
 ],
 "metadata": {
  "kernelspec": {
   "display_name": "new2_3114",
   "language": "python",
   "name": "python3"
  },
  "language_info": {
   "codemirror_mode": {
    "name": "ipython",
    "version": 3
   },
   "file_extension": ".py",
   "mimetype": "text/x-python",
   "name": "python",
   "nbconvert_exporter": "python",
   "pygments_lexer": "ipython3",
   "version": "3.11.8"
  }
 },
 "nbformat": 4,
 "nbformat_minor": 5
}
